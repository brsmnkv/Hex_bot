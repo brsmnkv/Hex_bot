{
 "cells": [
  {
   "cell_type": "code",
   "execution_count": 1,
   "metadata": {},
   "outputs": [],
   "source": [
    "import sys\n",
    "sys.path.insert(1, '../Desktop/Hex_bot_group/agents/MCTSAgent/')\n",
    "from mctsNode import mctsNode\n",
    "import mctsSearchFull as mcts\n"
   ]
  },
  {
   "cell_type": "code",
   "execution_count": 2,
   "metadata": {},
   "outputs": [],
   "source": [
    "board = [\n",
    "    [0,0,0,0],\n",
    "    [0,0,0,0],\n",
    "    [1,1,1,-1],\n",
    "    [1,1,1,-1],\n",
    "]\n",
    "root = mctsNode(None, board)\n",
    "\n",
    "anotherBoard = [\n",
    "    [1,0,0,0,0],\n",
    "    [0,0,0,0,0],\n",
    "    [1,1,1,1,-1],\n",
    "    [1,1,1,1,-1],\n",
    "    [1,1,1,1,-1]\n",
    "]\n",
    "\n",
    "# root.addChild(mctsNode(root, anotherBoard))\n",
    "# print(root.getChildren()[0].board)"
   ]
  },
  {
   "cell_type": "code",
   "execution_count": 3,
   "metadata": {
    "scrolled": false
   },
   "outputs": [
    {
     "name": "stdout",
     "output_type": "stream",
     "text": [
      "enter mctsSearch\n",
      "enter loop with iteration = 0\n",
      "done selection, selected node's board: [[0, 0, 0, 0], [0, 0, 0, 0], [1, 1, 1, -1], [1, 1, 1, -1]]\n",
      "Done Expansion - expanded: [<mctsNode.mctsNode object at 0x7fd853f6d3d0>, <mctsNode.mctsNode object at 0x7fd853f6d6a0>, <mctsNode.mctsNode object at 0x7fd853f6d280>, <mctsNode.mctsNode object at 0x7fd853f6d610>, <mctsNode.mctsNode object at 0x7fd853f6dd60>, <mctsNode.mctsNode object at 0x7fd853f92e20>, <mctsNode.mctsNode object at 0x7fd853f92fa0>, <mctsNode.mctsNode object at 0x7fd853f6d850>]\n",
      "enter loop with iteration = 1\n",
      "done selection, selected node's board: [[0, 0, 0, 0], [0, 0, 0, 1], [1, 1, 1, -1], [1, 1, 1, -1]]\n",
      "Done Expansion - expanded: [<mctsNode.mctsNode object at 0x7fd853f25e80>, <mctsNode.mctsNode object at 0x7fd853f6d220>, <mctsNode.mctsNode object at 0x7fd853f6d190>]\n",
      "enter loop with iteration = 2\n",
      "done selection, selected node's board: [[1, 0, 0, 0], [0, 0, 0, 1], [1, 1, 1, -1], [1, 1, 1, -1]]\n",
      "Done Expansion - expanded: [<mctsNode.mctsNode object at 0x7fd853fa3430>, <mctsNode.mctsNode object at 0x7fd853fa3460>]\n",
      "enter loop with iteration = 3\n",
      "done selection, selected node's board: [[1, 0, 0, 0], [1, 0, 0, 1], [1, 1, 1, -1], [1, 1, 1, -1]]\n",
      "Done Expansion - expanded: [<mctsNode.mctsNode object at 0x7fd853fa36d0>]\n",
      "[[0, 0, 0, 0], [0, 0, 0, 1], [1, 1, 1, -1], [1, 1, 1, -1]]\n"
     ]
    }
   ],
   "source": [
    "print(mcts.mctsSearch(root,4).board)"
   ]
  },
  {
   "cell_type": "code",
   "execution_count": 4,
   "metadata": {},
   "outputs": [],
   "source": [
    "pass"
   ]
  },
  {
   "cell_type": "code",
   "execution_count": null,
   "metadata": {},
   "outputs": [],
   "source": []
  }
 ],
 "metadata": {
  "kernelspec": {
   "display_name": "Python 3",
   "language": "python",
   "name": "python3"
  },
  "language_info": {
   "codemirror_mode": {
    "name": "ipython",
    "version": 3
   },
   "file_extension": ".py",
   "mimetype": "text/x-python",
   "name": "python",
   "nbconvert_exporter": "python",
   "pygments_lexer": "ipython3",
   "version": "3.8.5"
  }
 },
 "nbformat": 4,
 "nbformat_minor": 4
}
