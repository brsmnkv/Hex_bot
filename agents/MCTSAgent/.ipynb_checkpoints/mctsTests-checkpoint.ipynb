{
 "cells": [
  {
   "cell_type": "code",
   "execution_count": 1,
   "metadata": {},
   "outputs": [],
   "source": [
    "### IMPORTS\n",
    "\n",
    "from mctsNode import mctsNode\n",
    "import mctsSearch_Basic as mcts\n",
    "import mctsSearch_Basic_timelimited as mctstimed"
   ]
  },
  {
   "cell_type": "markdown",
   "metadata": {},
   "source": [
    "• Time aspect - special editing to mcts + controlled for each search from the agent\n",
    "• Breadth - dynamic needs implementing in mcts + some external way to affect it easily\n",
    "• C - currently testable straight away\n",
    "• Need a book of opening moves"
   ]
  },
  {
   "cell_type": "markdown",
   "metadata": {},
   "source": [
    "set up agent 1 args\n",
    "set up agent 2 args\n",
    "\n",
    "While N iterations\n"
   ]
  },
  {
   "cell_type": "code",
   "execution_count": null,
   "metadata": {},
   "outputs": [],
   "source": [
    "# Global Parameter for local testing - iterations\n",
    "iterations = 1000\n",
    "time = 5\n",
    "\n",
    "# Simple Agent - static\n",
    "# Can be used to optimise **playouts**, and **c**\n",
    "\n",
    "class simplemctsAgent:\n",
    "    def __init__(self, _playouts, _c):\n",
    "        \n",
    "        ## set up simple params \n",
    "        # like c, playouts number, iterations must be same for all...\n",
    "        self.playouts = _playouts\n",
    "        self.c = _c\n",
    "        \n",
    "    def makeMove(self, board):\n",
    "        root = mctsNode(None, board, None)\n",
    "        child = mcts.mctsSearch(root,iterations,self.playout,self.c)\n",
    "        move = child.getMove()\n",
    "        return move\n",
    "\n",
    "    \n",
    "# same but fixed time allocated\n",
    "\n",
    "class simple_mcts_timelimited_Agent:\n",
    "    def __init__(self, _playouts, _c):\n",
    "        \n",
    "        ## set up simple params \n",
    "        # like c, playouts number, iterations must be same for all...\n",
    "        self.playouts = _playouts\n",
    "        self.c = _c\n",
    "        \n",
    "    def makeMove(self, board):\n",
    "        root = mctsNode(None, board, None)\n",
    "        child = mctstimed.mctsSearch(root,time,self.playout,self.c)\n",
    "        move = child.getMove()\n",
    "        return move\n",
    "        \n",
    "        "
   ]
  },
  {
   "cell_type": "code",
   "execution_count": null,
   "metadata": {},
   "outputs": [],
   "source": [
    "class Game:\n",
    "    \n",
    "    def __init__(self, _agent1, _agent2, _reps):\n",
    "        self.agent1 = _agent1\n",
    "        self.agent2 = _agent2\n",
    "        self.reps = _reps\n",
    "        self.stat = None\n",
    "        \n",
    "    def run(self):\n",
    "        wins = 0\n",
    "        for i in range(self.reps):\n",
    "            wins += self.play()\n",
    "        self.stat = wins / self.reps\n",
    "        \n",
    "    def win_rate(self):\n",
    "        return self.stat\n",
    "    \n",
    "    def play(self):\n",
    "        # play the game to a win\n",
    "        # return whether agent 1 has won\n",
    "        \n",
    "        \n",
    "# mcts._winner(winningBoard)\n",
    "            \n",
    "            "
   ]
  },
  {
   "cell_type": "code",
   "execution_count": null,
   "metadata": {},
   "outputs": [],
   "source": [
    "agenta = simplemctsAgent(1, 0.5)\n",
    "agentb = simplemctsAgent(2, 0.5)\n",
    "agentc = simplemctsAgent(3, 0.5)\n",
    "agentd = simplemctsAgent(4, 0.5)\n",
    "agente = simplemctsAgent(5, 0.5)\n",
    "agentf = simplemctsAgent(10, 0.5)\n",
    "agentd = simplemctsAgent(20, 0.5)"
   ]
  },
  {
   "cell_type": "code",
   "execution_count": null,
   "metadata": {},
   "outputs": [],
   "source": []
  },
  {
   "cell_type": "code",
   "execution_count": null,
   "metadata": {},
   "outputs": [],
   "source": []
  },
  {
   "cell_type": "code",
   "execution_count": 6,
   "metadata": {},
   "outputs": [
    {
     "name": "stdout",
     "output_type": "stream",
     "text": [
      "Time elapsed during the process: 4.9541146739993565\n"
     ]
    }
   ],
   "source": [
    "import time\n",
    "start = time.monotonic()\n",
    "for i in range(100000000):\n",
    "    variable = 200\n",
    "end = time.monotonic()\n",
    "\n",
    "print(\"Time elapsed during the process:\", end - start)"
   ]
  },
  {
   "cell_type": "code",
   "execution_count": null,
   "metadata": {},
   "outputs": [],
   "source": []
  },
  {
   "cell_type": "code",
   "execution_count": null,
   "metadata": {},
   "outputs": [],
   "source": []
  },
  {
   "cell_type": "code",
   "execution_count": null,
   "metadata": {},
   "outputs": [],
   "source": []
  },
  {
   "cell_type": "code",
   "execution_count": null,
   "metadata": {},
   "outputs": [],
   "source": []
  }
 ],
 "metadata": {
  "kernelspec": {
   "display_name": "Python 3",
   "language": "python",
   "name": "python3"
  },
  "language_info": {
   "codemirror_mode": {
    "name": "ipython",
    "version": 3
   },
   "file_extension": ".py",
   "mimetype": "text/x-python",
   "name": "python",
   "nbconvert_exporter": "python",
   "pygments_lexer": "ipython3",
   "version": "3.8.5"
  }
 },
 "nbformat": 4,
 "nbformat_minor": 4
}
