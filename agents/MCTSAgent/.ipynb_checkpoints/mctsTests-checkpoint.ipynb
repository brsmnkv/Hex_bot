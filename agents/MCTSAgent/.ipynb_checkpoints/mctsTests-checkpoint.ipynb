{
 "cells": [
  {
   "cell_type": "code",
   "execution_count": 1,
   "metadata": {},
   "outputs": [],
   "source": [
    "### IMPORTS\n",
    "\n",
    "#import libs, and the Node and MCTS modules\n",
    "# import sys\n",
    "# sys.path.insert(1, '../Desktop/Hex_bot_group/agents/MCTSAgent/')\n",
    "\n",
    "from mctsNode import mctsNode\n",
    "import mctsSearchFull_NN as mcts"
   ]
  },
  {
   "cell_type": "code",
   "execution_count": 4,
   "metadata": {},
   "outputs": [
    {
     "data": {
      "text/plain": [
       "1"
      ]
     },
     "execution_count": 4,
     "metadata": {},
     "output_type": "execute_result"
    }
   ],
   "source": [
    "### IRRELEVANT to NN side\n",
    "\n",
    "# check that _winner() works\n",
    "winningBoard = [\n",
    "    [1,0,0],\n",
    "     [1,0,0],\n",
    "      [1,1,1]\n",
    "]\n",
    "mcts._winner(winningBoard)\n",
    "\n",
    "\n",
    "# Need to write an interpreter to work with this kind of board input outputs\n",
    "#\n",
    "#     R B 0 0\n",
    "#      R R 0 0\n",
    "#       B R R 0\n",
    "#        X X 0 0\n",
    "#"
   ]
  },
  {
   "cell_type": "code",
   "execution_count": 2,
   "metadata": {},
   "outputs": [],
   "source": [
    "### HELPER PRINTING FUNC\n",
    "\n",
    "# Nicer printing out function\n",
    "# Not amazing\n",
    "\n",
    "totallen = 10\n",
    "halflen = 5\n",
    "def niceprint(returnboard):\n",
    "    for i in range(len(returnboard)):\n",
    "        line = \"\"\n",
    "        line+= halflen*i*\" \"\n",
    "        for j in range(len(returnboard)):\n",
    "            el = str(returnboard[i][j])\n",
    "            toappend = totallen - len(el)\n",
    "            line += el\n",
    "            line += toappend*\" \"\n",
    "        print(line)\n",
    "        \n",
    "totallen2 = 8\n",
    "halflen2 = 4\n",
    "def niceprint2(returnboard):\n",
    "    for i in range(len(returnboard)):\n",
    "        line = \"\"\n",
    "        line+= halflen*i*\" \"\n",
    "        for j in range(len(returnboard)):\n",
    "            el = str(returnboard[i][j])\n",
    "            toappend = totallen - len(el)\n",
    "            line += el\n",
    "            line += toappend*\" \"\n",
    "        print(line)"
   ]
  },
  {
   "cell_type": "code",
   "execution_count": 16,
   "metadata": {},
   "outputs": [
    {
     "name": "stdout",
     "output_type": "stream",
     "text": [
      "1         (25, 34)  (25, 34)  -1        (24, 34)  \n",
      "     (12, 19)  (75, 90)  (20, 29)  (16, 24)  (12, 19)  \n",
      "          (20, 29)  (24, 34)  (915, 964)-1        (33, 44)  \n",
      "               (8, 14)   (20, 29)  1         (16, 24)  (16, 24)  \n",
      "                    1         (20, 29)  (4, 9)    1         -1        \n"
     ]
    }
   ],
   "source": [
    "### THE GOOD STUFF\n",
    "\n",
    "board = [\n",
    "    [0,0,0,0],\n",
    "     [0,0,0,0],\n",
    "     [0,-1,1,-1],\n",
    "       [0,0,1,-1],\n",
    "]\n",
    "\n",
    "\n",
    "bigboard = [\n",
    "    [1,0,0,-1,0],\n",
    "     [0,0,0,0,0],\n",
    "      [0,0,0,-1,0],\n",
    "       [0,0,1,0,0],\n",
    "        [1,0,0,1,-1]\n",
    "]\n",
    "\n",
    "verybigboard = [\n",
    "    [ 1, 0, 0,-1, 0, 0, 0],\n",
    "     [ 0, 0, 0, 0, 0, 0, 0],\n",
    "      [ 0, 0, 0,-1, 0, 0, 0],\n",
    "       [ 0, 0, 1, 0, 0, 0, 0],\n",
    "        [ 1, 0, 0, 1,-1, 0, 0],\n",
    "         [ 0, 0, 0,-1, 0, 0, 0],\n",
    "          [ 0, 0, 1, 0, 0, 0, 0]\n",
    "]\n",
    "\n",
    "root = mctsNode(None, bigboard, None)\n",
    "\n",
    "\n",
    "# call the search with root containing the board, #iterations, #playouts per new node, C\n",
    "\n",
    "# niceprint(mcts.mctsSearch(root,9,10,0.9))\n",
    "# # note how here nothing changes after 9 iterations (full depth of search tree?)\n",
    "\n",
    "niceprint(mcts.mctsSearch(root,1000,1,0.4))\n",
    "\n",
    "# so the tuples in the returned board of mctsSearch are Q, N\n",
    "# Where practically we kind of mainly care about N.. because N is affected by Q within the algorithm\n",
    "\n"
   ]
  },
  {
   "cell_type": "code",
   "execution_count": 18,
   "metadata": {
    "scrolled": false
   },
   "outputs": [
    {
     "name": "stdout",
     "output_type": "stream",
     "text": [
      "1         59        59        -1        58        \n",
      "     31        165       49        40        31        \n",
      "          49        58        1879      -1        77        \n",
      "               22        49        1         40        40        \n",
      "                    1         49        13        1         -1        \n"
     ]
    }
   ],
   "source": [
    "### A BETTER REPRESENTATION (?): \n",
    "def improveboard(rboard):\n",
    "    for i in range(len(rboard)):\n",
    "        for j in range(len(rboard)):\n",
    "            el = rboard[i][j]\n",
    "            if type(el) is tuple:\n",
    "                rboard[i][j] = el[0]+el[1]\n",
    "    return rboard\n",
    "                \n",
    "                \n",
    "niceprint(improveboard(mcts.mctsSearch(root,1000,1,0.4)))\n"
   ]
  }
 ],
 "metadata": {
  "kernelspec": {
   "display_name": "Python 3",
   "language": "python",
   "name": "python3"
  },
  "language_info": {
   "codemirror_mode": {
    "name": "ipython",
    "version": 3
   },
   "file_extension": ".py",
   "mimetype": "text/x-python",
   "name": "python",
   "nbconvert_exporter": "python",
   "pygments_lexer": "ipython3",
   "version": "3.8.5"
  }
 },
 "nbformat": 4,
 "nbformat_minor": 4
}
