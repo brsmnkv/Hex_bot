{
 "cells": [
  {
   "cell_type": "markdown",
   "metadata": {
    "id": "wGIGhD8Ym2rT"
   },
   "source": [
    "A method to do an opening move book by doing big MCTS:"
   ]
  },
  {
   "cell_type": "code",
   "execution_count": 2,
   "metadata": {
    "id": "NmehU05vleE2"
   },
   "outputs": [],
   "source": [
    "\"\"\"\n",
    "A MonteCarloTreeSearch Node class:\n",
    "- Q and N are total reward and visits to node, from basic algorithm\n",
    "- children are the existing / already created children nodes of that node\n",
    "- options are all the possible children nodes (MAYBE)\n",
    "- parent is the parent node - for backpropagation (None for root)\n",
    "- board - the state the node represents\n",
    "\"\"\"\n",
    "\n",
    "from math import sqrt, log\n",
    "\n",
    "class Board:\n",
    "    def  __init__(self, _board):\n",
    "        self.board = []\n",
    "        self.size = len(_board)\n",
    "        for i in range(len(_board)):\n",
    "            for j in range(len(_board)):\n",
    "                self.board.append(_board[i][j])\n",
    "\n",
    "\n",
    "\n",
    "    def getPiece(self, i,j):\n",
    "        return self.board[i*self.size + j]\n",
    "\n",
    "    def setPiece(self, piece, i,j):\n",
    "        self.board[i*self.size + j] = piece\n",
    "\n",
    "    def getBoard(self):\n",
    "        return self.board\n",
    "\n",
    "    def size(self):\n",
    "        return self.size\n",
    "\n",
    "        \n",
    "\n",
    "class mctsNode:\n",
    "\n",
    "    def __init__(self, _parent, _board, move):\n",
    "        self.Q = 0\n",
    "        self.N = 0\n",
    "        self.children = []\n",
    "        self.parent = _parent\n",
    "        self.leaf = True\n",
    "        self.size = len(_board)\n",
    "        self.move = move\n",
    "\n",
    "        self.options = []\n",
    "        #generate options (MAYBE)\n",
    "\n",
    "        # we want board to be a matrix of -1,0,1s\n",
    "        self.board = _board\n",
    "\n",
    "    def applyMove(self):\n",
    "        self.board[self.move[0]][self.move[1]] = 1\n",
    "\n",
    "    def getMove(self):\n",
    "        return self.move\n",
    "\n",
    "\n",
    "    def addChild(self, _child):\n",
    "        self.children.append(_child)\n",
    "        self.leaf = False\n",
    "\n",
    "    def getChildren(self):\n",
    "        return self.children\n",
    "\n",
    "    def isLeaf(self):\n",
    "        return self.leaf\n",
    "    \n",
    "    def isRoot(self):\n",
    "        return self.parent is None\n",
    "\n",
    "    def UCT(self, c):\n",
    "        return (self.Q / self.N) + c*sqrt(2*log(self.parent.N)/self.N)\n",
    "\n",
    "    def Robust(self):\n",
    "        return self.N\n",
    "\n",
    "    def BestRobust(self):\n",
    "        return (self.Q,self.N)\n",
    "\n",
    "    def getBoard(self):\n",
    "        return self.board\n",
    "\n",
    "    def getOptions(self):\n",
    "        options = []\n",
    "        for i in range(self.size):\n",
    "            for j in range(self.size):\n",
    "                if(self.board[i][j] == 0):\n",
    "                    options.append((i,j))\n",
    "        return options\n",
    "\n",
    "    # def playout(self):\n",
    "    #     # playout from this node's board to end\n",
    "\n",
    "    # def backpropagate(self):\n",
    "    #     # update this node's data and then backpropagate to its parent (unless root)    \n",
    "\n",
    "\n",
    "# from mctsNode import mctsNode\n",
    "import random\n",
    "from copy import deepcopy\n",
    "import time\n",
    "\n",
    "\n",
    "\n",
    "# Increase this a bit in any case\n",
    "# fixedBranchFactor = 3\n",
    "\n",
    "# timing\n",
    "\n",
    "\n",
    "def mctsSearch(root, allowance, playouts, _c):\n",
    "    c = _c\n",
    "    playoutReps = playouts\n",
    "    allowedtime = allowance\n",
    "    start = time.monotonic()\n",
    "\n",
    "    rootNode = root\n",
    "    \n",
    "\n",
    "    # print(\"enter mctsSearch\")   #pprriinntt\n",
    "\n",
    "    while (time.monotonic() < start + allowedtime):\n",
    "\n",
    "        # print(\"iteration: \" + str(i))   #pprriinntt\n",
    "        # print(\"enter loop with iteration = \" + str(i))   #pprriinntt\n",
    "        \n",
    "        # Selection\n",
    "        selectedNode, depth = _treePolicy(rootNode, c, 1)\n",
    "\n",
    "        # print(\"done selection, selected node's board: \" + str(selectedNode.getBoard()))   #pprriinntt\n",
    "\n",
    "        # Expansion\n",
    "\n",
    "        expanded = []\n",
    "\n",
    "        options = selectedNode.getOptions()\n",
    "\n",
    "        for i in range(int(len(options)/depth)):\n",
    "            child, choice = _expandPolicy(selectedNode, options)\n",
    "            options.remove(choice)\n",
    "            selectedNode.addChild(child)\n",
    "            expanded.append(child)\n",
    "\n",
    "        # print(\"Done Expansion - expanded: \" + str(expanded))    #pprriinntt\n",
    "\n",
    "        # Playout & Backpropagate for each new child\n",
    "        \n",
    "        for child in expanded:\n",
    "            for reps in range(playoutReps):\n",
    "                win = _playout(child)  \n",
    "                # win is 0 or 1\n",
    "                _backPropagate(child, win)\n",
    "\n",
    "    return _best(rootNode)\n",
    "\n",
    "\n",
    "\n",
    "def _treePolicy(root, c, i):\n",
    "    currentNode = root\n",
    "    while(not currentNode.isLeaf()):\n",
    "        currentChildren = currentNode.getChildren()\n",
    "\n",
    "        # HERE WE DECIDE WHICH CHILD TO PICK ON EACH ITERATION\n",
    "        # IN THIS CASE WE DO THE GENERALLY AGREED UPON UCT\n",
    "        # AND THERE ISN'T MUCH TO WONDER ABOUT HERE\n",
    "        currentNode = max(currentChildren, key=lambda x: x.UCT(c))\n",
    "        i += 1\n",
    "    return currentNode, i\n",
    "\n",
    "def _expandPolicy(selectedNode, options):\n",
    "\n",
    "    # HERE WE PICK THE NODE(S) TO EXPAND TO FROM THE SELECTED ONE\n",
    "    # FIRST WILL DO A RANDOMLY PICKED 3-5 RESULTING STATES\n",
    "\n",
    "    # IDEALLY HERE IS WHERE WE WANT A HEURISTIC FUNCTION / NN\n",
    "    # SO WE CAN BRANCH OUT TO THE IMPORTANT MOVES TO CONSIDER WITHOUT\n",
    "    # BRANCHING TO UNNECESSARY ONES\n",
    "\n",
    "    board = selectedNode.getBoard()\n",
    "\n",
    "    choice = random.choice(options)\n",
    "\n",
    "\n",
    "    # board[choice[0]][choice[1]] = 1\n",
    "    \n",
    "    nextNode = mctsNode(selectedNode, deepcopy(board), choice)\n",
    "    nextNode.applyMove()\n",
    "\n",
    "    return (nextNode,choice)\n",
    "\n",
    "def _playout(child):\n",
    "\n",
    "    board = deepcopy(child.getBoard())\n",
    "    options = child.getOptions()\n",
    "    colour = -1\n",
    "\n",
    "    # WE DO A RANDOM PLAYOUT POLICY\n",
    "    # THIS IS ANOTHER PLACE WHERE WE COULD IMPROVE STUFF\n",
    "    # BY DOING SOMETHING BETTER THAN RANDOM\n",
    "    # NOTE IM PLAYING OUT TILL FULL BOARD, BECAUSE IT MAY BE QUICKER TO DO SO,\n",
    "    # THAN CHECK FOR A WINNER AFTER EVERY MOVE (ROOM FOR ANALYSIS AND IMPROVEMENT)\n",
    "    while (options):\n",
    "        choice = random.choice(options)\n",
    "        options.remove(choice)\n",
    "        board[choice[0]][choice[1]] = colour\n",
    "        colour *= -1\n",
    "\n",
    "    return _winner(board)\n",
    "\n",
    "def _backPropagate(node, win):\n",
    "    node.N += 1\n",
    "    node.Q += win\n",
    "    if node.parent:\n",
    "        _backPropagate(node.parent, win)\n",
    "\n",
    "\n",
    "\n",
    "def _winner(board):\n",
    "    # CHECK STARTING WITH THE TOP LINE IF THERE IS A CONNECTION TO BOTTOM\n",
    "    visited = set()\n",
    "    left = set()\n",
    "\n",
    "    for j in range(len(board)):\n",
    "        if(board[0][j] == 1):\n",
    "            left.add((0,j))\n",
    "\n",
    "    while left:\n",
    "        some = left.pop()\n",
    "        visited.add(some)\n",
    "\n",
    "        neighbours = _getNeighbours(board,some)\n",
    "            \n",
    "        for each in neighbours:\n",
    "            if(board[each[0]][each[1]] == 1):\n",
    "                if (each[0] == len(board)-1):\n",
    "                    return 1\n",
    "                if each not in visited:\n",
    "                    left.add(each)\n",
    "    return 0\n",
    "\n",
    "def _getNeighbours(board, ij):\n",
    "    x = ij[1]\n",
    "    y = ij[0]\n",
    "    #clockwise neighbours of a x,y\n",
    "    available = [True,True,True,True,True,True]\n",
    "    I_DISPLACEMENTS = [-1, -1, 0, 1,  1, 0]\n",
    "    J_DISPLACEMENTS = [0,  1,  1, 0, -1, -1]\n",
    "    if(y == 0): \n",
    "        available[0] = False\n",
    "        available[1] = False\n",
    "    elif(y == len(board)-1):\n",
    "        available[3] = False\n",
    "        available[4] = False\n",
    "    if(x == 0):\n",
    "        available[4] = False\n",
    "        available[5] = False\n",
    "    elif(x == len(board)-1):\n",
    "        available[1] = False\n",
    "        available[2] = False\n",
    "    result = []\n",
    "    for i in range(6):\n",
    "        if available[i]:\n",
    "            result.append((y+I_DISPLACEMENTS[i], x+J_DISPLACEMENTS[i]))\n",
    "    return result\n",
    "\n",
    "def _best(root):\n",
    "    if root.isLeaf():\n",
    "        return root\n",
    "    children = root.getChildren()\n",
    "    # Ill be returning the robust child for now (child with most visits)\n",
    "    # thats usually a good idea\n",
    "    return max(children, key=lambda x: x.Robust())\n",
    "\n",
    "def _values(root):\n",
    "    children = root.getChildren()\n",
    "    outputboard = deepcopy(root.getBoard())\n",
    "    for child in children:\n",
    "        move = child.getMove()\n",
    "        outputboard[move[0]][move[1]] = child.BestRobust()\n",
    "    return outputboard\n"
   ]
  },
  {
   "cell_type": "code",
   "execution_count": 4,
   "metadata": {
    "colab": {
     "base_uri": "https://localhost:8080/"
    },
    "id": "B6_kpBQ8me5W",
    "outputId": "066ca0aa-c239-4c84-a439-14de5ee3396c"
   },
   "outputs": [],
   "source": [
    "zeroboard = []\n",
    "finalboard2 = []\n",
    "for i in range(11):\n",
    "    zeroboard.append([])\n",
    "    finalboard2.append([])\n",
    "    for j in range(11):\n",
    "        zeroboard[i].append(0)\n",
    "        finalboard2[i].append(0)\n",
    "\n",
    "\n",
    "for i in range(36):   #36 * 5 minutes = 3hours, and 2160 runs\n",
    "    for j in range(60):\n",
    "        root = mctsNode(None, zeroboard, None)\n",
    "        child = mctsSearch(root,5,3,0.1)   #12 per minute\n",
    "        move = child.getMove()\n",
    "        finalboard2[move[0]][move[1]] += 1\n",
    "    print(finalboard2)\n",
    "\n"
   ]
  },
  {
   "cell_type": "code",
   "execution_count": 5,
   "metadata": {
    "colab": {
     "base_uri": "https://localhost:8080/",
     "height": 787
    },
    "id": "GIAi7CntD8Mq",
    "outputId": "acea8857-c6e6-4fe5-ec78-aa030486be75"
   },
   "outputs": [
    {
     "data": {
      "image/png": "[encoded data removed]",
      "text/plain": [
       "<Figure size 432x288 with 1 Axes>"
      ]
     },
     "metadata": {
      "needs_background": "light"
     },
     "output_type": "display_data"
    },
    {
     "data": {
      "image/png": "[encoded data removed]",
      "text/plain": [
       "<Figure size 432x288 with 1 Axes>"
      ]
     },
     "metadata": {
      "needs_background": "light"
     },
     "output_type": "display_data"
    },
    {
     "data": {
      "text/plain": [
       "<matplotlib.legend.Legend at 0x7ff6ef0ae9d0>"
      ]
     },
     "execution_count": 5,
     "metadata": {},
     "output_type": "execute_result"
    },
    {
     "data": {
      "image/png": "[encoded data removed]",
      "text/plain": [
       "<Figure size 432x288 with 1 Axes>"
      ]
     },
     "metadata": {
      "needs_background": "light"
     },
     "output_type": "display_data"
    }
   ],
   "source": [
    "import matplotlib.pyplot as plt\n",
    "import numpy as np\n",
    "finalboard = [[4, 4, 3, 5, 4, 4, 2, 10, 9, 1, 6],\n",
    " [6, 5, 8, 4, 1, 3, 7, 6, 9, 5, 8],\n",
    " [5, 5, 1, 8, 5, 2, 10, 5, 10, 6, 8],\n",
    " [8, 7, 8, 4, 7, 8, 6, 2, 5, 1, 4],\n",
    " [6, 7, 9, 3, 7, 6, 7, 2, 7, 5, 6],\n",
    " [4, 8, 5, 4, 8, 7, 3, 8, 6, 6, 4],\n",
    " [5, 3, 6, 5, 7, 8, 8, 8, 4, 8, 3],\n",
    " [7, 8, 5, 5, 7, 4, 3, 3, 5, 3, 1],\n",
    " [5, 6, 9, 3, 1, 3, 7, 5, 4, 7, 4],\n",
    " [6, 7, 2, 4, 5, 7, 3, 4, 8, 6, 4],\n",
    " [5, 1, 7, 8, 2, 5, 6, 1, 6, 7, 7]]\n",
    "a = np.asarray(finalboard)\n",
    "plt.imshow(a, cmap='Reds')\n",
    "plt.show()\n",
    "\n",
    "# Difference map along axis (cause should be same ideally)\n",
    "\n",
    "diff = []\n",
    "for i in range(11):\n",
    "    diff.append([])\n",
    "    for j in range(11):\n",
    "        diff[i].append(0)\n",
    "\n",
    "for i in range(11):\n",
    "    for j in range(11):\n",
    "        diff[i][j] = abs( finalboard[i][j] - finalboard[10-i][10-j] )\n",
    "\n",
    "b = np.asarray(diff)\n",
    "plt.imshow(b, cmap='Blues')\n",
    "plt.show() \n",
    "\n",
    "# Combination of difference and values \n",
    "\n",
    "import matplotlib.patches as mpatches\n",
    "\n",
    "diffnvalue = []\n",
    "for i in range(11):\n",
    "    diffnvalue.append([])\n",
    "    for j in range(11):\n",
    "        diffnvalue[i].append(0)\n",
    "\n",
    "for i in range(11):\n",
    "    for j in range(11):\n",
    "        diffnvalue[i][j] = finalboard[i][j] - diff[i][j] \n",
    "\n",
    "c = np.asarray(diffnvalue)\n",
    "im = plt.imshow(c, cmap='Greens')\n",
    "\n",
    "values = np.unique(c.ravel())\n",
    "colors = [ im.cmap(im.norm(value)) for value in values]\n",
    "patches = [ mpatches.Patch(color=colors[i], label=\"Level {l}\".format(l=values[i]) ) for i in range(len(values)) ]\n",
    "plt.legend(handles=patches, bbox_to_anchor=(1.05, 1), loc=2, borderaxespad=0. )\n"
   ]
  },
  {
   "cell_type": "code",
   "execution_count": 6,
   "metadata": {
    "colab": {
     "base_uri": "https://localhost:8080/",
     "height": 922
    },
    "id": "1bx1m5h7hX46",
    "outputId": "b6f99787-ddfa-473f-b65c-02277b8c91e5",
    "scrolled": false
   },
   "outputs": [
    {
     "data": {
      "image/png": "[encoded data removed]",
      "text/plain": [
       "<Figure size 432x288 with 1 Axes>"
      ]
     },
     "metadata": {
      "needs_background": "light"
     },
     "output_type": "display_data"
    },
    {
     "data": {
      "image/png": "[encoded data removed]",
      "text/plain": [
       "<Figure size 432x288 with 1 Axes>"
      ]
     },
     "metadata": {
      "needs_background": "light"
     },
     "output_type": "display_data"
    },
    {
     "data": {
      "text/plain": [
       "<matplotlib.legend.Legend at 0x7ff6ef358ee0>"
      ]
     },
     "execution_count": 6,
     "metadata": {},
     "output_type": "execute_result"
    },
    {
     "data": {
      "image/png": "[encoded data removed]",
      "text/plain": [
       "<Figure size 432x288 with 1 Axes>"
      ]
     },
     "metadata": {
      "needs_background": "light"
     },
     "output_type": "display_data"
    }
   ],
   "source": [
    "import matplotlib.pyplot as plt\n",
    "import numpy as np\n",
    "\n",
    "finalboard2 = [[17, 19, 15, 14, 19, 21, 25, 18, 15, 15, 17],\n",
    " [10, 17, 9, 13, 17, 23, 21, 23, 14, 21, 14],\n",
    " [13, 17, 22, 16, 16, 12, 21, 16, 19, 28, 22],\n",
    " [18, 16, 13, 22, 17, 19, 28, 16, 21, 13, 23],\n",
    " [18, 21, 18, 27, 12, 24, 17, 16, 6, 14, 18],\n",
    " [15, 12, 27, 13, 22, 17, 19, 26, 19, 17, 19],\n",
    " [16, 16, 15, 18, 20, 20, 18, 27, 15, 21, 20],\n",
    " [19, 22, 19, 15, 15, 20, 14, 13, 22, 16, 14],\n",
    " [19, 27, 10, 13, 15, 19, 22, 14, 17, 24, 14],\n",
    " [18, 26, 23, 17, 16, 16, 20, 14, 21, 21, 18],\n",
    " [22, 17, 11, 13, 12, 19, 21, 16, 16, 16, 16]]\n",
    "# d = np.asarray([[8, 10, 8, 9, 4, 6, 9, 9, 10, 7, 10], [13, 10, 8, 8, 9, 11, 11, 14, 8, 7, 14], [7, 10, 10, 16, 11, 10, 13, 5, 9, 14, 6], [11, 8, 14, 9, 7, 12, 12, 14, 5, 10, 13], [11, 7, 9, 9, 11, 9, 7, 11, 19, 10, 9], [11, 7, 11, 12, 10, 9, 10, 6, 7, 9, 12], [10, 14, 11, 9, 8, 12, 10, 8, 10, 7, 6], [7, 9, 10, 5, 13, 6, 12, 13, 11, 14, 9], [11, 8, 10, 11, 8, 5, 6, 8, 9, 9, 8], [10, 9, 10, 7, 9, 4, 12, 8, 10, 9, 5], [12, 12, 3, 13, 7, 8, 5, 6, 8, 10, 11]])\n",
    "d = np.asarray(finalboard2)\n",
    "plt.imshow(d, cmap='Reds')\n",
    "plt.show()\n",
    "\n",
    "diff2 = []\n",
    "for i in range(11):\n",
    "    diff2.append([])\n",
    "    for j in range(11):\n",
    "        diff2[i].append(0)\n",
    "\n",
    "for i in range(11):\n",
    "    for j in range(11):\n",
    "        diff2[i][j] = abs( finalboard2[i][j] - finalboard2[10-i][10-j] )\n",
    "\n",
    "e = np.asarray(diff2)\n",
    "plt.imshow(e, cmap='Blues')\n",
    "plt.show() \n",
    "\n",
    "\n",
    "import matplotlib.patches as mpatches\n",
    "\n",
    "diffnvalue2 = []\n",
    "for i in range(11):\n",
    "    diffnvalue2.append([])\n",
    "    for j in range(11):\n",
    "        diffnvalue2[i].append(0)\n",
    "\n",
    "for i in range(11):\n",
    "    for j in range(11):\n",
    "        diffnvalue2[i][j] = finalboard2[i][j] - diff2[i][j] \n",
    "\n",
    "f = np.asarray(diffnvalue2)\n",
    "im2 = plt.imshow(f, cmap='Greens')\n",
    "\n",
    "values = np.unique(f.ravel())\n",
    "colors = [ im2.cmap(im2.norm(value)) for value in values]\n",
    "patches = [ mpatches.Patch(color=colors[i], label=\"Level {l}\".format(l=values[i]) ) for i in range(len(values)) ]\n",
    "plt.legend(handles=patches, bbox_to_anchor=(1.05, 1), loc=2, borderaxespad=0. )"
   ]
  },
  {
   "cell_type": "code",
   "execution_count": 10,
   "metadata": {
    "colab": {
     "base_uri": "https://localhost:8080/",
     "height": 922
    },
    "id": "G8k2kEGhS0K0",
    "outputId": "812a603c-9151-4ee8-9cbd-ecbf46c723dd"
   },
   "outputs": [
    {
     "data": {
      "image/png": "[encoded data removed]",
      "text/plain": [
       "<Figure size 432x288 with 1 Axes>"
      ]
     },
     "metadata": {
      "needs_background": "light"
     },
     "output_type": "display_data"
    },
    {
     "data": {
      "image/png": "[encoded data removed]",
      "text/plain": [
       "<Figure size 432x288 with 1 Axes>"
      ]
     },
     "metadata": {
      "needs_background": "light"
     },
     "output_type": "display_data"
    },
    {
     "data": {
      "text/plain": [
       "<matplotlib.legend.Legend at 0x7ff6ef39c9a0>"
      ]
     },
     "execution_count": 10,
     "metadata": {},
     "output_type": "execute_result"
    },
    {
     "data": {
      "image/png": "[encoded data removed]",
      "text/plain": [
       "<Figure size 432x288 with 1 Axes>"
      ]
     },
     "metadata": {
      "needs_background": "light"
     },
     "output_type": "display_data"
    }
   ],
   "source": [
    "import matplotlib.pyplot as plt\n",
    "import numpy as np\n",
    "\n",
    "finalboard3 = [[2, 1, 4, 3, 2, 5, 4, 4, 6, 3, 9],\n",
    " [2, 3, 1, 3, 4, 4, 8, 9, 18, 18, 11],\n",
    " [1, 6, 4, 7, 12, 7, 7, 17, 15, 16, 3],\n",
    " [2, 4, 7, 6, 15, 14, 16, 25, 20, 8, 4],\n",
    " [2, 3, 9, 18, 14, 16, 24, 18, 11, 5, 3],\n",
    " [5, 7, 11, 13, 20, 15, 25, 21, 6, 5, 3],\n",
    " [3, 7, 8, 24, 29, 16, 19, 9, 12, 7, 4],\n",
    " [2, 10, 19, 20, 21, 14, 11, 6, 5, 4, 1],\n",
    " [7, 18, 18, 20, 23, 11, 5, 11, 1, 3, 6],\n",
    " [6, 5, 11, 6, 9, 1, 12, 4, 5, 0, 1],\n",
    " [21, 7, 5, 5, 1, 4, 0, 4, 1, 1, 3]]\n",
    "# d = np.asarray([[8, 10, 8, 9, 4, 6, 9, 9, 10, 7, 10], [13, 10, 8, 8, 9, 11, 11, 14, 8, 7, 14], [7, 10, 10, 16, 11, 10, 13, 5, 9, 14, 6], [11, 8, 14, 9, 7, 12, 12, 14, 5, 10, 13], [11, 7, 9, 9, 11, 9, 7, 11, 19, 10, 9], [11, 7, 11, 12, 10, 9, 10, 6, 7, 9, 12], [10, 14, 11, 9, 8, 12, 10, 8, 10, 7, 6], [7, 9, 10, 5, 13, 6, 12, 13, 11, 14, 9], [11, 8, 10, 11, 8, 5, 6, 8, 9, 9, 8], [10, 9, 10, 7, 9, 4, 12, 8, 10, 9, 5], [12, 12, 3, 13, 7, 8, 5, 6, 8, 10, 11]])\n",
    "d = np.asarray(finalboard3)\n",
    "plt.imshow(d, cmap='Reds')\n",
    "plt.show()\n",
    "\n",
    "diff3 = []\n",
    "for i in range(11):\n",
    "    diff3.append([])\n",
    "    for j in range(11):\n",
    "        diff3[i].append(0)\n",
    "\n",
    "for i in range(11):\n",
    "    for j in range(11):\n",
    "        diff3[i][j] = abs( finalboard3[i][j] - finalboard3[10-i][10-j] )\n",
    "\n",
    "e = np.asarray(diff3)\n",
    "plt.imshow(e, cmap='Blues')\n",
    "plt.show() \n",
    "\n",
    "\n",
    "import matplotlib.patches as mpatches\n",
    "\n",
    "diffnvalue3 = []\n",
    "for i in range(11):\n",
    "    diffnvalue3.append([])\n",
    "    for j in range(11):\n",
    "        diffnvalue3[i].append(0)\n",
    "\n",
    "for i in range(11):\n",
    "    for j in range(11):\n",
    "        diffnvalue3[i][j] = finalboard3[i][j] - diff3[i][j] \n",
    "\n",
    "f = np.asarray(diffnvalue3)\n",
    "im3 = plt.imshow(f, cmap='Greens')\n",
    "\n",
    "values = np.unique(f.ravel())\n",
    "colors = [ im3.cmap(im3.norm(value)) for value in values]\n",
    "patches = [ mpatches.Patch(color=colors[i], label=\"Level {l}\".format(l=values[i]) ) for i in range(len(values)) ]\n",
    "plt.legend(handles=patches, bbox_to_anchor=(1.05, 1), loc=2, borderaxespad=0. )"
   ]
  },
  {
   "cell_type": "code",
   "execution_count": 9,
   "metadata": {
    "colab": {
     "base_uri": "https://localhost:8080/",
     "height": 922
    },
    "id": "G8k2kEGhS0K0",
    "outputId": "812a603c-9151-4ee8-9cbd-ecbf46c723dd"
   },
   "outputs": [
    {
     "data": {
      "image/png": "[encoded data removed]",
      "text/plain": [
       "<Figure size 432x288 with 1 Axes>"
      ]
     },
     "metadata": {
      "needs_background": "light"
     },
     "output_type": "display_data"
    },
    {
     "data": {
      "image/png": "[encoded data removed]",
      "text/plain": [
       "<Figure size 432x288 with 1 Axes>"
      ]
     },
     "metadata": {
      "needs_background": "light"
     },
     "output_type": "display_data"
    },
    {
     "data": {
      "text/plain": [
       "<matplotlib.legend.Legend at 0x7ff6eef61f10>"
      ]
     },
     "execution_count": 9,
     "metadata": {},
     "output_type": "execute_result"
    },
    {
     "data": {
      "image/png": "[encoded data removed]",
      "text/plain": [
       "<Figure size 432x288 with 1 Axes>"
      ]
     },
     "metadata": {
      "needs_background": "light"
     },
     "output_type": "display_data"
    }
   ],
   "source": [
    "import matplotlib.pyplot as plt\n",
    "import numpy as np\n",
    "\n",
    "finalboard4 = [[7, 9, 10, 6, 8, 10, 5, 3, 10, 9, 9], [5, 8, 13, 7, 9, 5, 5, 5, 6, 13, 10], [9, 13, 6, 7, 5, 5, 12, 7, 6, 8, 6], [8, 4, 7, 5, 9, 8, 3, 9, 11, 9, 7], [10, 5, 18, 9, 12, 13, 8, 13, 10, 10, 12], [6, 10, 5, 4, 3, 12, 12, 8, 2, 9, 13], [5, 9, 7, 5, 2, 10, 7, 8, 5, 17, 6], [9, 10, 7, 10, 4, 8, 8, 8, 6, 4, 5], [6, 10, 8, 5, 15, 6, 10, 5, 7, 13, 7], [10, 8, 9, 10, 10, 2, 5, 7, 7, 11, 8], [6, 11, 13, 6, 10, 6, 9, 5, 5, 5, 5]]\n",
    "\n",
    "# d = np.asarray([[8, 10, 8, 9, 4, 6, 9, 9, 10, 7, 10], [13, 10, 8, 8, 9, 11, 11, 14, 8, 7, 14], [7, 10, 10, 16, 11, 10, 13, 5, 9, 14, 6], [11, 8, 14, 9, 7, 12, 12, 14, 5, 10, 13], [11, 7, 9, 9, 11, 9, 7, 11, 19, 10, 9], [11, 7, 11, 12, 10, 9, 10, 6, 7, 9, 12], [10, 14, 11, 9, 8, 12, 10, 8, 10, 7, 6], [7, 9, 10, 5, 13, 6, 12, 13, 11, 14, 9], [11, 8, 10, 11, 8, 5, 6, 8, 9, 9, 8], [10, 9, 10, 7, 9, 4, 12, 8, 10, 9, 5], [12, 12, 3, 13, 7, 8, 5, 6, 8, 10, 11]])\n",
    "d = np.asarray(finalboard4)\n",
    "plt.imshow(d, cmap='Reds')\n",
    "plt.show()\n",
    "\n",
    "diff4 = []\n",
    "for i in range(11):\n",
    "    diff4.append([])\n",
    "    for j in range(11):\n",
    "        diff4[i].append(0)\n",
    "\n",
    "for i in range(11):\n",
    "    for j in range(11):\n",
    "        diff4[i][j] = abs( finalboard4[i][j] - finalboard4[10-i][10-j] )\n",
    "\n",
    "e = np.asarray(diff4)\n",
    "plt.imshow(e, cmap='Blues')\n",
    "plt.show() \n",
    "\n",
    "\n",
    "import matplotlib.patches as mpatches\n",
    "\n",
    "diffnvalue4 = []\n",
    "for i in range(11):\n",
    "    diffnvalue4.append([])\n",
    "    for j in range(11):\n",
    "        diffnvalue4[i].append(0)\n",
    "\n",
    "for i in range(11):\n",
    "    for j in range(11):\n",
    "        diffnvalue4[i][j] = finalboard4[i][j] - diff4[i][j] \n",
    "\n",
    "f = np.asarray(diffnvalue4)\n",
    "im4 = plt.imshow(f, cmap='Greens')\n",
    "\n",
    "values = np.unique(f.ravel())\n",
    "colors = [ im4.cmap(im4.norm(value)) for value in values]\n",
    "patches = [ mpatches.Patch(color=colors[i], label=\"Level {l}\".format(l=values[i]) ) for i in range(len(values)) ]\n",
    "plt.legend(handles=patches, bbox_to_anchor=(1.05, 1), loc=2, borderaxespad=0. )"
   ]
  },
  {
   "cell_type": "code",
   "execution_count": 13,
   "metadata": {
    "colab": {
     "base_uri": "https://localhost:8080/",
     "height": 265
    },
    "id": "yr3DH5SXPxYj",
    "outputId": "42b067fa-33ed-439d-e9aa-b533f69878dd",
    "scrolled": true
   },
   "outputs": [
    {
     "ename": "NameError",
     "evalue": "name 'finalcombined1' is not defined",
     "output_type": "error",
     "traceback": [
      "\u001b[0;31m---------------------------------------------------------------------------\u001b[0m",
      "\u001b[0;31mNameError\u001b[0m                                 Traceback (most recent call last)",
      "\u001b[0;32m<ipython-input-13-678b621f86f6>\u001b[0m in \u001b[0;36m<module>\u001b[0;34m\u001b[0m\n\u001b[1;32m      7\u001b[0m \u001b[0;32mfor\u001b[0m \u001b[0mi\u001b[0m \u001b[0;32min\u001b[0m \u001b[0mrange\u001b[0m\u001b[0;34m(\u001b[0m\u001b[0;36m11\u001b[0m\u001b[0;34m)\u001b[0m\u001b[0;34m:\u001b[0m\u001b[0;34m\u001b[0m\u001b[0;34m\u001b[0m\u001b[0m\n\u001b[1;32m      8\u001b[0m     \u001b[0;32mfor\u001b[0m \u001b[0mj\u001b[0m \u001b[0;32min\u001b[0m \u001b[0mrange\u001b[0m\u001b[0;34m(\u001b[0m\u001b[0;36m11\u001b[0m\u001b[0;34m)\u001b[0m\u001b[0;34m:\u001b[0m\u001b[0;34m\u001b[0m\u001b[0;34m\u001b[0m\u001b[0m\n\u001b[0;32m----> 9\u001b[0;31m         \u001b[0mfinalcombined1\u001b[0m\u001b[0;34m[\u001b[0m\u001b[0mi\u001b[0m\u001b[0;34m]\u001b[0m\u001b[0;34m[\u001b[0m\u001b[0mj\u001b[0m\u001b[0;34m]\u001b[0m \u001b[0;34m=\u001b[0m \u001b[0mfinalboard\u001b[0m\u001b[0;34m[\u001b[0m\u001b[0mi\u001b[0m\u001b[0;34m]\u001b[0m\u001b[0;34m[\u001b[0m\u001b[0mj\u001b[0m\u001b[0;34m]\u001b[0m \u001b[0;34m+\u001b[0m \u001b[0mfinalboard2\u001b[0m\u001b[0;34m[\u001b[0m\u001b[0mi\u001b[0m\u001b[0;34m]\u001b[0m\u001b[0;34m[\u001b[0m\u001b[0mj\u001b[0m\u001b[0;34m]\u001b[0m \u001b[0;34m+\u001b[0m \u001b[0mfinalboard3\u001b[0m\u001b[0;34m[\u001b[0m\u001b[0mi\u001b[0m\u001b[0;34m]\u001b[0m\u001b[0;34m[\u001b[0m\u001b[0mj\u001b[0m\u001b[0;34m]\u001b[0m \u001b[0;34m+\u001b[0m \u001b[0mfinalboard4\u001b[0m\u001b[0;34m[\u001b[0m\u001b[0mi\u001b[0m\u001b[0;34m]\u001b[0m\u001b[0;34m[\u001b[0m\u001b[0mj\u001b[0m\u001b[0;34m]\u001b[0m\u001b[0;34m\u001b[0m\u001b[0;34m\u001b[0m\u001b[0m\n\u001b[0m\u001b[1;32m     10\u001b[0m         \u001b[0mfinalcombined2\u001b[0m\u001b[0;34m[\u001b[0m\u001b[0mi\u001b[0m\u001b[0;34m]\u001b[0m\u001b[0;34m[\u001b[0m\u001b[0mj\u001b[0m\u001b[0;34m]\u001b[0m \u001b[0;34m=\u001b[0m \u001b[0mdiffnvalue\u001b[0m\u001b[0;34m[\u001b[0m\u001b[0mi\u001b[0m\u001b[0;34m]\u001b[0m\u001b[0;34m[\u001b[0m\u001b[0mj\u001b[0m\u001b[0;34m]\u001b[0m \u001b[0;34m+\u001b[0m \u001b[0mdiffnvalue2\u001b[0m\u001b[0;34m[\u001b[0m\u001b[0mi\u001b[0m\u001b[0;34m]\u001b[0m\u001b[0;34m[\u001b[0m\u001b[0mj\u001b[0m\u001b[0;34m]\u001b[0m \u001b[0;34m+\u001b[0m \u001b[0mdiffnvalue3\u001b[0m\u001b[0;34m[\u001b[0m\u001b[0mi\u001b[0m\u001b[0;34m]\u001b[0m\u001b[0;34m[\u001b[0m\u001b[0mj\u001b[0m\u001b[0;34m]\u001b[0m \u001b[0;34m+\u001b[0m \u001b[0mdiffnvalue4\u001b[0m\u001b[0;34m[\u001b[0m\u001b[0mi\u001b[0m\u001b[0;34m]\u001b[0m\u001b[0;34m[\u001b[0m\u001b[0mj\u001b[0m\u001b[0;34m]\u001b[0m\u001b[0;34m\u001b[0m\u001b[0;34m\u001b[0m\u001b[0m\n\u001b[1;32m     11\u001b[0m \u001b[0md\u001b[0m \u001b[0;34m=\u001b[0m \u001b[0mnp\u001b[0m\u001b[0;34m.\u001b[0m\u001b[0masarray\u001b[0m\u001b[0;34m(\u001b[0m\u001b[0mfinalcombined1\u001b[0m\u001b[0;34m)\u001b[0m\u001b[0;34m\u001b[0m\u001b[0;34m\u001b[0m\u001b[0m\n",
      "\u001b[0;31mNameError\u001b[0m: name 'finalcombined1' is not defined"
     ]
    }
   ],
   "source": [
    "finalcombined1 = []\n",
    "finalcombined2 = []\n",
    "for i in range(11):\n",
    "    finalcombined1.append([])\n",
    "    finalcombined2.append([])\n",
    "    for j in range(11):\n",
    "        finalcombined1[i].append(0)\n",
    "        finalcombined2[i].append(0)\n",
    "\n",
    "for i in range(11):\n",
    "    for j in range(11):\n",
    "        finalcombined1[i][j] = finalboard[i][j] + finalboard2[i][j] + finalboard3[i][j] + finalboard4[i][j]\n",
    "        finalcombined2[i][j] = diffnvalue[i][j] + diffnvalue2[i][j] + diffnvalue3[i][j] + diffnvalue4[i][j]\n",
    "d = np.asarray(finalcombined1)\n",
    "plt.imshow(d, cmap='Reds')\n",
    "plt.show()\n",
    "d = np.asarray(finalcombined2)\n",
    "plt.imshow(d, cmap='Greens')\n",
    "plt.show()"
   ]
  }
 ],
 "metadata": {
  "colab": {
   "collapsed_sections": [],
   "name": "OpeningMoves.ipynb",
   "provenance": []
  },
  "kernelspec": {
   "display_name": "Python 3",
   "language": "python",
   "name": "python3"
  },
  "language_info": {
   "codemirror_mode": {
    "name": "ipython",
    "version": 3
   },
   "file_extension": ".py",
   "mimetype": "text/x-python",
   "name": "python",
   "nbconvert_exporter": "python",
   "pygments_lexer": "ipython3",
   "version": "3.8.5"
  }
 },
 "nbformat": 4,
 "nbformat_minor": 1
}
