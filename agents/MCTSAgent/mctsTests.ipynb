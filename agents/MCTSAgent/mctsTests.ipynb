{
 "cells": [
  {
   "cell_type": "markdown",
   "metadata": {},
   "source": [
    "## A semi-automated testing and optimising example for the MCTS' \"playouts\" and \"c\" parameters ##"
   ]
  },
  {
   "cell_type": "markdown",
   "metadata": {},
   "source": [
    "-----"
   ]
  },
  {
   "cell_type": "markdown",
   "metadata": {},
   "source": [
    "# Part 1 - setup and classes #"
   ]
  },
  {
   "cell_type": "code",
   "execution_count": 1,
   "metadata": {},
   "outputs": [],
   "source": [
    "### IMPORTS\n",
    "\n",
    "from mctsNode import mctsNode\n",
    "import mctsSearch_Basic as mcts\n",
    "import mctsSearch_Basic_timelimited as mctstimed\n",
    "\n",
    "from time import monotonic\n",
    "from copy import deepcopy"
   ]
  },
  {
   "cell_type": "markdown",
   "metadata": {},
   "source": [
    "• Time aspect - special editing to mcts + controlled for each search from the agent <br>\n",
    "• Breadth - dynamic needs implementing in mcts + some external way to affect it easily <br>\n",
    "• C - currently testable straight away <br>\n",
    "• Need a book of opening moves <br>"
   ]
  },
  {
   "cell_type": "markdown",
   "metadata": {},
   "source": [
    "set up agent 1 args <br>\n",
    "set up agent 2 args \n",
    "\n",
    "\n",
    "While N iterations <br>\n",
    "    play the two agents"
   ]
  },
  {
   "cell_type": "code",
   "execution_count": 2,
   "metadata": {},
   "outputs": [],
   "source": [
    "### SIMPLE MCTS AGENTS\n",
    "\n",
    "# Global Parameter for local testing - iterations or time\n",
    "iterations = 1000\n",
    "\n",
    "# Simple Agent - static\n",
    "# Can be used to optimise **playouts**, and **c**\n",
    "\n",
    "class simplemctsAgent:\n",
    "    def __init__(self, _playouts, _c):\n",
    "        \n",
    "        ## set up simple params \n",
    "        # like c, playouts number, iterations must be same for all...\n",
    "        self.playouts = _playouts\n",
    "        self.c = _c\n",
    "        \n",
    "    def makeMove(self, board):\n",
    "        root = mctsNode(None, board, None)\n",
    "        child = mcts.mctsSearch(root,iterations,self.playouts,self.c)\n",
    "        move = child.getMove()\n",
    "        return move\n",
    "\n",
    "    \n",
    "# same but fixed time allocated\n",
    "\n",
    "class simple_mcts_timelimited_Agent:\n",
    "    def __init__(self, _playouts, _c, _time):\n",
    "        \n",
    "        ## set up simple params \n",
    "        # like c, playouts number, iterations must be same for all...\n",
    "        self.playouts = _playouts\n",
    "        self.c = _c\n",
    "        self.time = _time\n",
    "        \n",
    "    def makeMove(self, board):\n",
    "        root = mctsNode(None, board, None)\n",
    "        child = mctstimed.mctsSearch(root,self.time,self.playouts,self.c)\n",
    "        move = child.getMove()\n",
    "        return move\n",
    "        \n",
    "        "
   ]
  },
  {
   "cell_type": "code",
   "execution_count": 50,
   "metadata": {},
   "outputs": [],
   "source": [
    "### BASIC GAME CLASS IMPLEMENTATION\n",
    "\n",
    "class Game:\n",
    "    \n",
    "    def __init__(self, _agent1, _agent2, _reps):\n",
    "        self.agent1 = _agent1\n",
    "        self.agent2 = _agent2\n",
    "        self.reps = _reps\n",
    "        self.stat = None\n",
    "        \n",
    "    def run(self):\n",
    "        wins = 0\n",
    "        for i in range(self.reps):\n",
    "            wins += self._play(i%2)\n",
    "#             print(wins)\n",
    "        self.stat = wins / self.reps\n",
    "        \n",
    "    def win_rate(self):\n",
    "        return self.stat\n",
    "    \n",
    "    def _play(self, first):\n",
    "        board = [\n",
    "            [0,0,0,0,0,0,0,0,0,0,0],[0,0,0,0,0,0,0,0,0,0,0],[0,0,0,0,0,0,0,0,0,0,0],[0,0,0,0,0,0,0,0,0,0,0],[0,0,0,0,0,0,0,0,0,0,0],\n",
    "            [0,0,0,0,0,0,0,0,0,0,0],[0,0,0,0,0,0,0,0,0,0,0],[0,0,0,0,0,0,0,0,0,0,0],[0,0,0,0,0,0,0,0,0,0,0],[0,0,0,0,0,0,0,0,0,0,0],[0,0,0,0,0,0,0,0,0,0,0],\n",
    "        ]\n",
    "        player1 = first\n",
    "        while True:\n",
    "            if player1:\n",
    "                move = self.agent1.makeMove(board)\n",
    "                board[move[0]][move[1]] = 1\n",
    "                if mcts._winner(board):\n",
    "                    return 1\n",
    "                \n",
    "            \n",
    "            else:\n",
    "                board = self._opposite_board(board)\n",
    "                move = self.agent2.makeMove(board)\n",
    "                board[move[0]][move[1]] = 1\n",
    "                if mcts._winner(board):\n",
    "                    return 0\n",
    "                board = self._opposite_board(board)\n",
    "                \n",
    "            player1 = not player1\n",
    "            \n",
    "        return None    \n",
    "        \n",
    "        \n",
    "    def _opposite_board(self, board):\n",
    "        opp = deepcopy(board)\n",
    "        #rotate along diagonal\n",
    "        for i in range(11):\n",
    "            for j in range(i,11):\n",
    "                opp[i][j], opp[j][i] = opp[j][i], opp[i][j]\n",
    "        # and change -1 and 1        \n",
    "        for i in range(11):\n",
    "            for j in range(11):\n",
    "                opp[i][j]*= -1\n",
    "        return opp\n",
    "        \n",
    "            "
   ]
  },
  {
   "cell_type": "markdown",
   "metadata": {},
   "source": [
    "-----------"
   ]
  },
  {
   "cell_type": "markdown",
   "metadata": {},
   "source": [
    "# Part 2 - Basic test example #"
   ]
  },
  {
   "cell_type": "code",
   "execution_count": 48,
   "metadata": {},
   "outputs": [],
   "source": [
    "### IGNORE\n",
    "### JUST A CHECK THAT MY CODE WORKS\n",
    "\n",
    "# start = monotonic()\n",
    "# # benchmark test - 1 vs 20 default playouts, c = 0.5, 1 sec per mcts\n",
    "# game = Game(simple_mcts_timelimited_Agent(1, 0.5, 1), simple_mcts_timelimited_Agent(1, 0.5, 1), 5)\n",
    "# game.run()\n",
    "# print(game.win_rate())\n",
    "# end = monotonic()\n",
    "# print(\"Time elapsed during matches:\", end - start)\n",
    "\n",
    "#===============\n",
    "#  0.6\n",
    "#  Time elapsed during matches: 340.4184336870003\n",
    "#===============\n",
    "# Result for same agents was 0.6 proving that my testing method is all correct\n",
    "# (I was afraid it might somehow be bugging and only return 1 or 0)\n",
    "#==============="
   ]
  },
  {
   "cell_type": "code",
   "execution_count": 45,
   "metadata": {},
   "outputs": [
    {
     "name": "stdout",
     "output_type": "stream",
     "text": [
      "1\n",
      "1.0\n",
      "Time elapsed during matches: 67.71332813499976\n"
     ]
    }
   ],
   "source": [
    "### BASIC TEST - 1 MATCH BETWEEN 2 AGENTS\n",
    "\n",
    "# track time (not needed for the Game)\n",
    "start = monotonic()\n",
    "\n",
    "# benchmark test \n",
    "# 1 vs 20 default playouts with c = 0.5 and 1 sec per mcts\n",
    "agenta = simple_mcts_timelimited_Agent(1, 0.5, 1)\n",
    "agentb = simple_mcts_timelimited_Agent(20, 0.5, 1)\n",
    "# and only 1 match\n",
    "match_reruns = 1\n",
    "\n",
    "# set up game, run, and get win_rate for agent1\n",
    "game = Game(agenta, agentb, match_reruns)\n",
    "game.run()\n",
    "print(game.win_rate())\n",
    "\n",
    "# print seconds for that game\n",
    "end = monotonic()\n",
    "print(\"Time elapsed during matches:\", end - start)\n",
    "# about 1 minute"
   ]
  },
  {
   "cell_type": "markdown",
   "metadata": {},
   "source": [
    "Above output: <br>\n",
    "1.0 - Win_rate for agent1<br>\n",
    "Time elapsed during matches: 72.069467774 <br>\n",
    "\n",
    "\n",
    "Let's do more of a tournament thing\n",
    "- lets keep the mcts to a minute first\n",
    "- 10 plays per pair ~12 minutes / pair\n",
    "- in total 21 unique pairs to play => ~4 hours damn\n",
    "- => will keep it to 3 pairs per set and gain heuristics from that\n",
    "\n"
   ]
  },
  {
   "cell_type": "markdown",
   "metadata": {},
   "source": [
    "-----------"
   ]
  },
  {
   "cell_type": "markdown",
   "metadata": {},
   "source": [
    "# Part 3 - Analyze and optimise 'playouts' parameter #"
   ]
  },
  {
   "cell_type": "markdown",
   "metadata": {},
   "source": [
    "### 3.1 - Fixed time for msct - 1 sec"
   ]
  },
  {
   "cell_type": "code",
   "execution_count": 46,
   "metadata": {},
   "outputs": [],
   "source": [
    "time = 1  #expect about 120secs / 2 mins per game\n",
    "\n",
    "agenta = simple_mcts_timelimited_Agent(1, 0.5, time)\n",
    "agentb = simple_mcts_timelimited_Agent(2, 0.5, time)\n",
    "agentc = simple_mcts_timelimited_Agent(3, 0.5, time)\n",
    "agentd = simple_mcts_timelimited_Agent(4, 0.5, time)\n",
    "agente = simple_mcts_timelimited_Agent(5, 0.5, time)\n",
    "agentf = simple_mcts_timelimited_Agent(10, 0.5, time)\n",
    "agentg = simple_mcts_timelimited_Agent(20, 0.5, time)"
   ]
  },
  {
   "cell_type": "code",
   "execution_count": 24,
   "metadata": {
    "scrolled": true
   },
   "outputs": [],
   "source": [
    "results = []"
   ]
  },
  {
   "cell_type": "code",
   "execution_count": 25,
   "metadata": {},
   "outputs": [
    {
     "name": "stdout",
     "output_type": "stream",
     "text": [
      "1.0\n",
      "Time elapsed during the 10 plays (in minutes): 10\n",
      "1.0\n",
      "Time elapsed during the 10 plays (in minutes): 11\n",
      "1.0\n",
      "Time elapsed during the 10 plays (in minutes): 10\n",
      "[(1.0, 10), (1.0, 11), (1.0, 10)]\n"
     ]
    }
   ],
   "source": [
    "#cycle 1 - default playouts numbers 1 to 4\n",
    "\n",
    "players = [(agenta,agentb), (agenta,agentc), (agenta,agentd)]\n",
    "\n",
    "for pair in players:\n",
    "    start = monotonic()\n",
    "    game = Game(pair[0], pair[1], 10)\n",
    "    game.run()\n",
    "    print(game.win_rate())\n",
    "    end = monotonic()\n",
    "    minutes = int((end - start)/60)\n",
    "    print(\"Time elapsed during the 10 plays (in minutes):\", minutes)\n",
    "    results.append((game.win_rate(),minutes))\n",
    "\n",
    "    \n",
    "print(results)"
   ]
  },
  {
   "cell_type": "markdown",
   "metadata": {},
   "source": [
    "<b> Results from above test - clearly with a 1 minute per tree, it's the playouts=1 thats best. </b> \n",
    "\n",
    "1.0 <br>\n",
    "Time elapsed during the 10 plays (in minutes): 10 <br>\n",
    "1.0 <br>\n",
    "Time elapsed during the 10 plays (in minutes): 11 <br>\n",
    "1.0 <br>\n",
    "Time elapsed during the 10 plays (in minutes): 10 <br>\n",
    "[(1.0, 10), (1.0, 11), (1.0, 10)]  <br>"
   ]
  },
  {
   "cell_type": "markdown",
   "metadata": {},
   "source": [
    "<b> So with only 1 sec per tree there is a clear winner - playout = 1 </b> \n",
    "\n",
    "-> this is probably because the tree doesn't get big enough to be worth the extra time we put into better resolution leafs data (1/0 vs 1/0.66/0.33/0 for 3)\n"
   ]
  },
  {
   "cell_type": "markdown",
   "metadata": {},
   "source": [
    "### 3.2 - time for mcts - 5 sec"
   ]
  },
  {
   "cell_type": "markdown",
   "metadata": {},
   "source": [
    "\n",
    "<b> Test 2 - more time per search </b> <br>\n",
    "- let's see if anything changes if we make time = 5 seconds per search\n",
    "- we are going to run a single 10 iteration on 1 vs 2 and let's see "
   ]
  },
  {
   "cell_type": "code",
   "execution_count": 39,
   "metadata": {},
   "outputs": [
    {
     "name": "stdout",
     "output_type": "stream",
     "text": [
      "0.3\n",
      "Time elapsed during matches: 1793.2188330210001\n"
     ]
    }
   ],
   "source": [
    "time = 5  #expect about 600secs / 5 mins per game (max) - more like 3\n",
    "\n",
    "agenta = simple_mcts_timelimited_Agent(1, 0.5, time)\n",
    "agentb = simple_mcts_timelimited_Agent(2, 0.5, time)\n",
    "\n",
    "start = monotonic()\n",
    "# benchmark test - 1 vs 20 default playouts, c = 0.5, 1 sec per mcts\n",
    "game = Game(agenta, agentb, 10)\n",
    "game.run()\n",
    "print(game.win_rate())\n",
    "end = monotonic()\n",
    "print(\"Time elapsed during matches:\", end - start)"
   ]
  },
  {
   "cell_type": "markdown",
   "metadata": {},
   "source": [
    "0.3 <br>\n",
    "Time elapsed during matches: 1793.2188330210001 ~30min\n",
    "\n",
    "Exciting! <br>\n",
    "With longer time per search - 5 second - it turns out that agent 2 is better than agent 1 (2 playouts rather than 1) \n",
    "\n",
    "<b> With time = 5sec playouts = 2 is better than playouts = 1 </b>\n",
    "\n",
    "Therefore now we have to compare 2 and 3"
   ]
  },
  {
   "cell_type": "code",
   "execution_count": 40,
   "metadata": {},
   "outputs": [
    {
     "name": "stdout",
     "output_type": "stream",
     "text": [
      "0.4\n",
      "Time elapsed during matches: 2090.7558067339996\n"
     ]
    }
   ],
   "source": [
    "time = 5  #expect about 600secs / 5 mins per game (max) - more like 3\n",
    "\n",
    "agenta = simple_mcts_timelimited_Agent(2, 0.5, time)\n",
    "agentb = simple_mcts_timelimited_Agent(3, 0.5, time)\n",
    "\n",
    "start = monotonic()\n",
    "# benchmark test - 1 vs 20 default playouts, c = 0.5, 1 sec per mcts\n",
    "game = Game(agenta, agentb, 10)\n",
    "game.run()\n",
    "print(game.win_rate())\n",
    "end = monotonic()\n",
    "print(\"Time elapsed during matches:\", end - start)"
   ]
  },
  {
   "cell_type": "markdown",
   "metadata": {},
   "source": [
    "0.4\n",
    "Time elapsed during matches: 2090.7558067339996 ~35min\n",
    "\n",
    "With time = 5sec in fact playouts = 3 is better than =2\n",
    "Furthermore note time was more i.e. the two agents had to play further down the game (i.e. made fewer mistakes)"
   ]
  },
  {
   "cell_type": "markdown",
   "metadata": {},
   "source": [
    "### Conclusions of part 3 ###\n",
    "1. Generally too many playouts seem to beat the purpose of mcts\n",
    "2. A number of playouts slightly bigger than 1 might improve playing quality\n",
    "3. The exact optimal number of playouts depends on mcts time (x processing power) => so it needs to be tested in regards to the final machine capabilities <br>\n",
    "-- an intuition: this is probably the case because in the more constrained case (1 sec) we don't have enough time to take advantage of the higher resolution of new Nodes' estimated values <br>\n",
    "-- question: can we gain the same insight but with n-iterations instead of n-seconds per MCTS, and then just find how n-iterations relate to the uni machine's speed"
   ]
  },
  {
   "cell_type": "markdown",
   "metadata": {},
   "source": [
    "-----------"
   ]
  },
  {
   "cell_type": "markdown",
   "metadata": {},
   "source": [
    "# Part 4 - attempt at analyzing and optimising 'c' parameter #"
   ]
  },
  {
   "cell_type": "markdown",
   "metadata": {},
   "source": [
    "### 4.1 Testing our intuition, and c with resolution .1 ###"
   ]
  },
  {
   "cell_type": "markdown",
   "metadata": {},
   "source": [
    "<b> I expect the above notes and conclusions to be roughly the trend for c too </b> <br>\n",
    "To slightly bias towards exploration the more time the mcts has, and bias toward exploitation the less time it has.\n",
    "\n",
    "Run 1 - 1 second per move"
   ]
  },
  {
   "cell_type": "code",
   "execution_count": 41,
   "metadata": {},
   "outputs": [
    {
     "name": "stdout",
     "output_type": "stream",
     "text": [
      "0.9\n",
      "Time elapsed during the 10 plays (in minutes): 8\n",
      "0.7\n",
      "Time elapsed during the 10 plays (in minutes): 10\n",
      "0.6\n",
      "Time elapsed during the 10 plays (in minutes): 11\n",
      "0.4\n",
      "Time elapsed during the 10 plays (in minutes): 11\n",
      "[(1.0, 10), (1.0, 11), (1.0, 10), (0.9, 8), (0.7, 10), (0.6, 11), (0.4, 11)]\n"
     ]
    }
   ],
   "source": [
    "time = 1  #expect about 120secs / 2 mins per game\n",
    "\n",
    "agent1 = simple_mcts_timelimited_Agent(1, 0.1, time)\n",
    "agent2 = simple_mcts_timelimited_Agent(1, 0.2, time)\n",
    "agent3 = simple_mcts_timelimited_Agent(1, 0.3, time)\n",
    "agent4 = simple_mcts_timelimited_Agent(1, 0.4, time)\n",
    "agent5 = simple_mcts_timelimited_Agent(1, 0.5, time)\n",
    "agent6 = simple_mcts_timelimited_Agent(1, 0.6, time)\n",
    "agent7 = simple_mcts_timelimited_Agent(1, 0.7, time)\n",
    "agent8 = simple_mcts_timelimited_Agent(1, 0.8, time)\n",
    "\n",
    "players = [(agent1,agent2), (agent3,agent4), (agent5,agent6), (agent7,agent8)]\n",
    "results = []\n",
    "\n",
    "for pair in players:\n",
    "    start = monotonic()\n",
    "    game = Game(pair[0], pair[1], 10)\n",
    "    game.run()\n",
    "    print(game.win_rate())\n",
    "    end = monotonic()\n",
    "    minutes = int((end - start)/60)\n",
    "    print(\"Time elapsed during the 10 plays (in minutes):\", minutes)\n",
    "    results.append((game.win_rate(),minutes))\n",
    "\n",
    "    \n",
    "print(results)"
   ]
  },
  {
   "cell_type": "markdown",
   "metadata": {},
   "source": [
    "0.9 <br>\n",
    "Time elapsed during the 10 plays (in minutes): 8 <br>\n",
    "0.7 <br>\n",
    "Time elapsed during the 10 plays (in minutes): 10 <br>\n",
    "0.6 <br>\n",
    "Time elapsed during the 10 plays (in minutes): 11 <br>\n",
    "0.4 <br>\n",
    "Time elapsed during the 10 plays (in minutes): 11 <br>\n",
    "\n",
    "so results: <br>\n",
    "1 vs 2 : 9:1  |  3 vs 4 : 7:3  |  5 vs 6 : 6:4  |  7 vs 8 : 4:6  <br>\n",
    "now playing 1 vs 3  and  5 vs 8\n"
   ]
  },
  {
   "cell_type": "code",
   "execution_count": 49,
   "metadata": {},
   "outputs": [
    {
     "name": "stdout",
     "output_type": "stream",
     "text": [
      "1\n",
      "2\n",
      "3\n",
      "4\n",
      "5\n",
      "6\n",
      "6\n",
      "7\n",
      "8\n",
      "9\n",
      "0.9\n",
      "Time elapsed during the 10 plays (in minutes): 8\n",
      "1\n",
      "2\n",
      "3\n",
      "4\n",
      "4\n",
      "5\n",
      "6\n",
      "7\n",
      "8\n",
      "8\n",
      "0.8\n",
      "Time elapsed during the 10 plays (in minutes): 9\n",
      "[(0.9, 8), (0.8, 9)]\n"
     ]
    }
   ],
   "source": [
    "time = 1  #expect about 120secs / 2 mins per game\n",
    "\n",
    "agent1 = simple_mcts_timelimited_Agent(1, 0.1, time)\n",
    "agent3 = simple_mcts_timelimited_Agent(1, 0.3, time)\n",
    "agent5 = simple_mcts_timelimited_Agent(1, 0.5, time)\n",
    "agent8 = simple_mcts_timelimited_Agent(1, 0.8, time)\n",
    "\n",
    "players = [(agent1,agent3), (agent5,agent8)]\n",
    "results = []\n",
    "\n",
    "for pair in players:\n",
    "    start = monotonic()\n",
    "    game = Game(pair[0], pair[1], 10)\n",
    "    game.run()\n",
    "    print(game.win_rate())\n",
    "    end = monotonic()\n",
    "    minutes = int((end - start)/60)\n",
    "    print(\"Time elapsed during the 10 plays (in minutes):\", minutes)\n",
    "    results.append((game.win_rate(),minutes))\n",
    " \n",
    "print(results)"
   ]
  },
  {
   "cell_type": "markdown",
   "metadata": {},
   "source": [
    "0.9 <br> \n",
    "Time elapsed during the 10 plays (in minutes): 8 <br>\n",
    "0.8 <br>\n",
    "Time elapsed during the 10 plays (in minutes): 9 <br>\n",
    "\n",
    "Agent 1 clearly beats agent 3 here\n",
    "\n",
    "<b> As far as 1 sec per mcts goes, 0.1 is the clear best c </b>\n"
   ]
  },
  {
   "cell_type": "markdown",
   "metadata": {},
   "source": [
    "\n",
    "What happens if we switch from 1minute to 5minutes - is the result gonna be the opposite for agent1 and agent2"
   ]
  },
  {
   "cell_type": "code",
   "execution_count": 43,
   "metadata": {
    "scrolled": true
   },
   "outputs": [
    {
     "name": "stdout",
     "output_type": "stream",
     "text": [
      "0.6666666666666666\n",
      "0.6666666666666666\n",
      "Time elapsed during matches: 1198.0619802670008\n"
     ]
    }
   ],
   "source": [
    "time = 5  #expect about 600secs / 5 mins per game - (max) more like 10\n",
    "\n",
    "agent1 = simple_mcts_timelimited_Agent(1, 0.1, time)\n",
    "agent2 = simple_mcts_timelimited_Agent(1, 0.2, time)\n",
    "\n",
    "start = monotonic()\n",
    "# benchmark test - 1 vs 20 default playouts, c = 0.5, 1 sec per mcts\n",
    "game = Game(agenta, agentb, 6)\n",
    "game.run()\n",
    "print(game.win_rate())\n",
    "end = monotonic()\n",
    "print(\"Time elapsed during matches:\", end - start)"
   ]
  },
  {
   "cell_type": "markdown",
   "metadata": {},
   "source": [
    "0.66  <br> \n",
    "Time elapsed during matches: 1198.0619802670008\n",
    "\n",
    "So with longer time per search we see a slight movement towards bigger exploration factor <br>\n",
    "However between 1 and 5 seconds 0.1 is still better than 0.2\n",
    "\n",
    "<b> i.e. we see the same trend as for playouts (the more time we have - the more we're moving toward exploration / bigger number), but slower change speed </b>"
   ]
  },
  {
   "cell_type": "markdown",
   "metadata": {},
   "source": [
    "### 4.2 Sample test for c with resolution .02"
   ]
  },
  {
   "cell_type": "code",
   "execution_count": 51,
   "metadata": {},
   "outputs": [
    {
     "name": "stdout",
     "output_type": "stream",
     "text": [
      "0.3\n",
      "Time elapsed during the 10 plays (in minutes): 8\n",
      "0.7\n",
      "Time elapsed during the 10 plays (in minutes): 9\n",
      "0.3\n",
      "Time elapsed during the 10 plays (in minutes): 8\n",
      "0.4\n",
      "Time elapsed during the 10 plays (in minutes): 8\n",
      "[(0.3, 8), (0.7, 9), (0.3, 8), (0.4, 8)]\n"
     ]
    }
   ],
   "source": [
    "time = 1  #expect about 120secs / 2 mins per game\n",
    "\n",
    "agent1 = simple_mcts_timelimited_Agent(1, 0.06, time)\n",
    "agent2 = simple_mcts_timelimited_Agent(1, 0.08, time)\n",
    "agent3 = simple_mcts_timelimited_Agent(1, 0.1, time)\n",
    "agent4 = simple_mcts_timelimited_Agent(1, 0.12, time)\n",
    "agent5 = simple_mcts_timelimited_Agent(1, 0.14, time)\n",
    "\n",
    "players = [(agent1,agent3), (agent2,agent3), (agent4,agent3), (agent5,agent3)]\n",
    "results = []\n",
    "\n",
    "for pair in players:\n",
    "    start = monotonic()\n",
    "    game = Game(pair[0], pair[1], 10)\n",
    "    game.run()\n",
    "    print(game.win_rate())\n",
    "    end = monotonic()\n",
    "    minutes = int((end - start)/60)\n",
    "    print(\"Time elapsed during the 10 plays (in minutes):\", minutes)\n",
    "    results.append((game.win_rate(),minutes))\n",
    " \n",
    "print(results)"
   ]
  },
  {
   "cell_type": "markdown",
   "metadata": {},
   "source": [
    "0.3 <br>\n",
    "Time elapsed during the 10 plays (in minutes): 8 <br>\n",
    "0.7 <br>\n",
    "Time elapsed during the 10 plays (in minutes): 9 <br>\n",
    "0.3 <br>\n",
    "Time elapsed during the 10 plays (in minutes): 8 <br>\n",
    "0.4 <br>\n",
    "Time elapsed during the 10 plays (in minutes): 8 <br>"
   ]
  },
  {
   "cell_type": "code",
   "execution_count": null,
   "metadata": {},
   "outputs": [],
   "source": []
  },
  {
   "cell_type": "markdown",
   "metadata": {},
   "source": [
    "-----------"
   ]
  },
  {
   "cell_type": "markdown",
   "metadata": {},
   "source": [
    "# General Conclusions #\n"
   ]
  }
 ],
 "metadata": {
  "kernelspec": {
   "display_name": "Python 3",
   "language": "python",
   "name": "python3"
  },
  "language_info": {
   "codemirror_mode": {
    "name": "ipython",
    "version": 3
   },
   "file_extension": ".py",
   "mimetype": "text/x-python",
   "name": "python",
   "nbconvert_exporter": "python",
   "pygments_lexer": "ipython3",
   "version": "3.8.5"
  }
 },
 "nbformat": 4,
 "nbformat_minor": 4
}
